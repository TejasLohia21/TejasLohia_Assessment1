{
 "cells": [
  {
   "cell_type": "markdown",
   "id": "d75e4ed0",
   "metadata": {},
   "source": [
    "### Part - 1"
   ]
  },
  {
   "cell_type": "code",
   "execution_count": null,
   "id": "be5bb66a",
   "metadata": {},
   "outputs": [
    {
     "name": "stderr",
     "output_type": "stream",
     "text": [
      "No sentence-transformers model found with name microsoft/codebert-base. Creating a new one with mean pooling.\n"
     ]
    },
    {
     "name": "stdout",
     "output_type": "stream",
     "text": [
      "Index(['Hash', 'Message', 'Filename', 'Source Code (prev)',\n",
      "       'Source Code (current)', 'Diff', 'LLM Inference', 'rectified message'],\n",
      "      dtype='object')\n",
      "Similarities computed and saved to: /Users/tejasmacipad/Desktop/Third_year/STT/lab2/similarity_codebert.csv\n"
     ]
    }
   ],
   "source": [
    "import pandas as pd\n",
    "from sentence_transformers import SentenceTransformer, util\n",
    "import torch\n",
    "\n",
    "commits_csv = \"diffanalysis.csv\"\n",
    "df = pd.read_csv(commits_csv)\n",
    "model = SentenceTransformer('microsoft/codebert-base')\n",
    "\n",
    "def compute_similarity(code_diff, commit_msg):\n",
    "    if pd.isna(code_diff) or pd.isna(commit_msg):\n",
    "        return 0\n",
    "    embeddings = model.encode([code_diff, commit_msg], convert_to_tensor=True)\n",
    "    cos_sim = util.pytorch_cos_sim(embeddings[0], embeddings[1]).item()\n",
    "    return (cos_sim + 1) / 2 \n",
    "\n",
    "print(df.columns)\n",
    "\n",
    "df['similarity'] = df.apply(lambda row: compute_similarity(row['Diff'], row['Message']), axis=1)\n",
    "\n",
    "output_path = \"/Users/tejasmacipad/Desktop/Third_year/STT/lab2/similarity_codebert.csv\"\n",
    "df.to_csv(output_path, index=False)\n",
    "\n",
    "print(\"Similarities computed and saved to:\", output_path)"
   ]
  },
  {
   "cell_type": "markdown",
   "id": "f0024d28",
   "metadata": {},
   "source": [
    "### Part - II"
   ]
  },
  {
   "cell_type": "code",
   "execution_count": 16,
   "id": "e04b19e7",
   "metadata": {},
   "outputs": [
    {
     "name": "stderr",
     "output_type": "stream",
     "text": [
      "No sentence-transformers model found with name microsoft/codebert-base. Creating a new one with mean pooling.\n"
     ]
    },
    {
     "name": "stdout",
     "output_type": "stream",
     "text": [
      "Total commits: 727\n",
      "Average cosine similarity: 0.9239\n",
      "Hit rate (threshold 0.9): 88.72%\n",
      "Saved CSV with similarity scores to: /Users/tejasmacipad/Desktop/Third_year/STT/lab2/newmodelfile_with_similarity_codebert.csv\n"
     ]
    }
   ],
   "source": [
    "import pandas as pd\n",
    "from sentence_transformers import SentenceTransformer, util\n",
    "\n",
    "file_path = \"diffanalysis.csv\"\n",
    "df = pd.read_csv(file_path)\n",
    "\n",
    "model = SentenceTransformer('microsoft/codebert-base')\n",
    "\n",
    "def compute_similarity(code_diff, commit_msg):\n",
    "    if pd.isna(code_diff) or pd.isna(commit_msg):\n",
    "        return 0\n",
    "    embeddings = model.encode([code_diff, commit_msg], convert_to_tensor=True)\n",
    "    cos_sim = util.pytorch_cos_sim(embeddings[0], embeddings[1]).item()\n",
    "    return (cos_sim + 1) / 2\n",
    "\n",
    "df['similarity'] = df.apply(lambda row: compute_similarity(row['Diff'], row['LLM Inference']), axis=1)\n",
    "\n",
    "THRESHOLD = 0.9\n",
    "df['hit'] = df['similarity'] >= THRESHOLD\n",
    "hit_rate = df['hit'].sum() / len(df) * 100\n",
    "\n",
    "average_similarity = df['similarity'].mean()\n",
    "total_commits = len(df)\n",
    "\n",
    "print(f\"Total commits: {total_commits}\")\n",
    "print(f\"Average cosine similarity: {average_similarity:.4f}\")\n",
    "print(f\"Hit rate (threshold {THRESHOLD}): {hit_rate:.2f}%\")\n",
    "\n",
    "output_path = \"/Users/tejasmacipad/Desktop/Third_year/STT/lab2/newmodelfile_with_similarity_codebert.csv\"\n",
    "df.to_csv(output_path, index=False)\n",
    "print(\"Saved CSV with similarity scores to:\", output_path)"
   ]
  },
  {
   "cell_type": "markdown",
   "id": "a6beefd0",
   "metadata": {},
   "source": [
    "## Part - III"
   ]
  },
  {
   "cell_type": "code",
   "execution_count": null,
   "id": "f6a247b8",
   "metadata": {},
   "outputs": [
    {
     "name": "stdout",
     "output_type": "stream",
     "text": [
      "Average rectification improvement: 0.0171\n",
      "Total commits: 727\n",
      "Commits above threshold (0.9): 668\n",
      "Hit rate: 91.88%\n",
      "recification similarity: 0.9307055559414125\n",
      "Saved CSV with rectification and hit rate to: /Users/tejasmacipad/Desktop/Third_year/STT/lab2/newmodelfile_with_rectification_codebert.csv\n"
     ]
    }
   ],
   "source": [
    "import pandas as pd\n",
    "from sentence_transformers import SentenceTransformer, util\n",
    "\n",
    "file_path = \"diffanalysis.csv\"\n",
    "df = pd.read_csv(file_path)\n",
    "\n",
    "model = SentenceTransformer(\"microsoft/codebert-base\")\n",
    "\n",
    "def compute_similarity(code_diff, commit_msg):\n",
    "    if pd.isna(code_diff) or pd.isna(commit_msg):\n",
    "        return 0\n",
    "    embeddings = model.encode([code_diff, commit_msg], convert_to_tensor=True)\n",
    "    similarity = util.pytorch_cos_sim(embeddings[0], embeddings[1]).item()\n",
    "    return (similarity + 1) / 2\n",
    "\n",
    "df['sim_original'] = df.apply(lambda row: compute_similarity(row['Diff'], row['Message']), axis=1)\n",
    "df['sim_rectified'] = df.apply(lambda row: compute_similarity(row['Diff'], row['rectified message']), axis=1)\n",
    "\n",
    "df['improvement'] = df['sim_rectified'] - df['sim_original']\n",
    "average_improvement = df['improvement'].mean()\n",
    "\n",
    "SIMILARITY_THRESHOLD = 0.9\n",
    "num_hits = (df['sim_rectified'] >= SIMILARITY_THRESHOLD).sum()\n",
    "total_commits = len(df)\n",
    "hit_rate = num_hits / total_commits\n",
    "\n",
    "print(f\"Average rectification improvement: {average_improvement:.4f}\")\n",
    "print(f\"Total commits: {total_commits}\")\n",
    "print(f\"Commits above threshold ({SIMILARITY_THRESHOLD}): {num_hits}\")\n",
    "print(f\"Hit rate: {hit_rate:.2%}\")\n",
    "print(f\"recification similarity: {df[\"sim_rectified\"].mean()}\")\n",
    "\n",
    "output_path = \"/Users/tejasmacipad/Desktop/Third_year/STT/lab2/newmodelfile_with_rectification_codebert.csv\"\n",
    "df.to_csv(output_path, index=False)\n",
    "print(\"Saved CSV with rectification and hit rate to:\", output_path)"
   ]
  },
  {
   "cell_type": "code",
   "execution_count": null,
   "id": "e7704776",
   "metadata": {},
   "outputs": [],
   "source": []
  }
 ],
 "metadata": {
  "kernelspec": {
   "display_name": "lab2",
   "language": "python",
   "name": "python3"
  },
  "language_info": {
   "codemirror_mode": {
    "name": "ipython",
    "version": 3
   },
   "file_extension": ".py",
   "mimetype": "text/x-python",
   "name": "python",
   "nbconvert_exporter": "python",
   "pygments_lexer": "ipython3",
   "version": "3.12.9"
  }
 },
 "nbformat": 4,
 "nbformat_minor": 5
}
